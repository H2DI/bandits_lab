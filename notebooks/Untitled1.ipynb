{
 "cells": [
  {
   "cell_type": "code",
   "execution_count": 2,
   "metadata": {},
   "outputs": [],
   "source": [
    "import numpy as np\n",
    "import matplotlib.pyplot as plt\n",
    "import pickle\n",
    "import time\n",
    "import cvxpy as cp\n",
    "\n",
    "%matplotlib inline\n",
    "\n",
    "%run bandit_definitions.py\n",
    "%run algorithms.py\n",
    "%run sim_utilities.py\n",
    "%run optim_utils.py"
   ]
  },
  {
   "cell_type": "code",
   "execution_count": 3,
   "metadata": {},
   "outputs": [
    {
     "data": {
      "text/plain": [
       "[<matplotlib.lines.Line2D at 0x101ae8b4a8>]"
      ]
     },
     "execution_count": 3,
     "metadata": {},
     "output_type": "execute_result"
    },
    {
     "data": {
      "image/png": "[encoded data removed]",
      "text/plain": [
       "<Figure size 432x288 with 1 Axes>"
      ]
     },
     "metadata": {
      "needs_background": "light"
     },
     "output_type": "display_data"
    }
   ],
   "source": [
    "K = 3\n",
    "T = 10000\n",
    "np.random.seed(0)\n",
    "\n",
    "\n",
    "ds = np.linspace(1, 1+0.01, 3)\n",
    "M = 1\n",
    "scale = 50\n",
    "mus = M - scale*(1 / 2 + ds)\n",
    "band = UnifDBand(K, mus, M, scale)\n",
    "\n",
    "plt.plot(band.mus, 'x')"
   ]
  },
  {
   "cell_type": "code",
   "execution_count": 4,
   "metadata": {},
   "outputs": [
    {
     "name": "stdout",
     "output_type": "stream",
     "text": [
      "5.53819103927055e-05\n"
     ]
    },
    {
     "data": {
      "text/plain": [
       "[<matplotlib.lines.Line2D at 0x101b24eda0>]"
      ]
     },
     "execution_count": 4,
     "metadata": {},
     "output_type": "execute_result"
    },
    {
     "data": {
      "image/png": "[encoded data removed]",
      "text/plain": [
       "<Figure size 432x288 with 1 Axes>"
      ]
     },
     "metadata": {
      "needs_background": "light"
     },
     "output_type": "display_data"
    }
   ],
   "source": [
    "adahedgeexp3 = AdaHedgeExp3Bounded(K, M=M)\n",
    "\n",
    "np.random.seed(0)\n",
    "\n",
    "band.reset()\n",
    "adahedgeexp3.reset()\n",
    "for _ in range(T):\n",
    "    adahedgeexp3.play_once(band)\n",
    "    \n",
    "print(adahedgeexp3.lr_value)\n",
    "plt.plot(np.array(band.cum_regret) / scale)"
   ]
  },
  {
   "cell_type": "code",
   "execution_count": 5,
   "metadata": {},
   "outputs": [
    {
     "name": "stdout",
     "output_type": "stream",
     "text": [
      "0.0060514799530586175\n"
     ]
    },
    {
     "data": {
      "text/plain": [
       "[<matplotlib.lines.Line2D at 0x101b4dfac8>]"
      ]
     },
     "execution_count": 5,
     "metadata": {},
     "output_type": "execute_result"
    },
    {
     "data": {
      "image/png": "[encoded data removed]",
      "text/plain": [
       "<Figure size 432x288 with 1 Axes>"
      ]
     },
     "metadata": {
      "needs_background": "light"
     },
     "output_type": "display_data"
    }
   ],
   "source": [
    "alg = Exp3(K , M=M, label=\"Vanilla Exp3\")\n",
    "\n",
    "np.random.seed(0)\n",
    "\n",
    "band.reset()\n",
    "alg.reset()\n",
    "for _ in range(T):\n",
    "    alg.play_once(band)\n",
    "    \n",
    "print(alg.lr_value)\n",
    "plt.plot(np.array(band.cum_regret) / scale)"
   ]
  },
  {
   "cell_type": "code",
   "execution_count": null,
   "metadata": {},
   "outputs": [],
   "source": []
  },
  {
   "cell_type": "code",
   "execution_count": null,
   "metadata": {},
   "outputs": [
    {
     "name": "stdout",
     "output_type": "stream",
     "text": [
      "Run number  0  /  30\n",
      "Run number  5  /  30\n",
      "Run number  10  /  30\n",
      "Run number  15  /  30\n",
      "Run number  20  /  30\n",
      "Run number  25  /  30\n",
      "UCB \\sigma = 0.1  took  5.9171247482299805  total, i.e.  0.19723749160766602  per run\n",
      "Run number  0  /  30\n",
      "Run number  5  /  30\n",
      "Run number  10  /  30\n",
      "Run number  15  /  30\n",
      "Run number  20  /  30\n",
      "Run number  25  /  30\n",
      "UCB \\sigma = 1  took  6.058349132537842  total, i.e.  0.20194497108459472  per run\n",
      "Run number  0  /  30\n",
      "Run number  5  /  30\n",
      "Run number  10  /  30\n",
      "Run number  15  /  30\n",
      "Run number  20  /  30\n",
      "Run number  25  /  30\n",
      "UCB \\sigma = scale =50  took  5.403816223144531  total, i.e.  0.18012720743815105  per run\n",
      "Run number  0  /  30\n",
      "Run number  5  /  30\n",
      "Run number  10  /  30\n",
      "Run number  15  /  30\n",
      "Run number  20  /  30\n",
      "Run number  25  /  30\n",
      "UCB \\sigma = 200  took  6.740849018096924  total, i.e.  0.22469496726989746  per run\n",
      "Run number  0  /  30\n",
      "Run number  5  /  30\n",
      "Run number  10  /  30\n",
      "Run number  15  /  30\n",
      "Run number  20  /  30\n",
      "Run number  25  /  30\n",
      "True AdaExp3  took  45.804023027420044  total, i.e.  1.526800767580668  per run\n",
      "Run number  0  /  30\n",
      "Run number  5  /  30\n",
      "Run number  10  /  30\n",
      "Run number  15  /  30\n",
      "Run number  20  /  30\n",
      "Run number  25  /  30\n",
      "AdaFTRL Tsallis prox  took  3484.4579570293427  total, i.e.  116.14859856764475  per run\n",
      "Run number  0  /  30\n",
      "Run number  5  /  30\n",
      "Run number  10  /  30\n",
      "Run number  15  /  30\n",
      "Run number  20  /  30\n",
      "Run number  25  /  30\n",
      "AdaFTRL Tsallis  took  10852.195927143097  total, i.e.  361.7398642381032  per run\n",
      "Run number  0  /  30\n",
      "Run number  5  /  30\n",
      "Run number  10  /  30\n",
      "Run number  15  /  30\n",
      "Run number  20  /  30\n",
      "Run number  25  /  30\n",
      "FTL  took  5.46525502204895  total, i.e.  0.18217516740163167  per run\n",
      "Run number  0  /  30\n",
      "Run number  5  /  30\n",
      "Run number  10  /  30\n",
      "Run number  15  /  30\n",
      "Run number  20  /  30\n",
      "Run number  25  /  30\n",
      "random play  took  1.529843807220459  total, i.e.  0.0509947935740153  per run\n",
      "Run number  0  /  30\n",
      "Run number  5  /  30\n",
      "Run number  10  /  30\n",
      "Run number  15  /  30\n",
      "Run number  20  /  30\n",
      "Run number  25  /  30\n",
      "UCB \\sigma = 0.1  took  5.490870237350464  total, i.e.  0.18302900791168214  per run\n",
      "Run number  0  /  30\n",
      "Run number  5  /  30\n",
      "Run number  10  /  30\n",
      "Run number  15  /  30\n",
      "Run number  20  /  30\n",
      "Run number  25  /  30\n",
      "UCB \\sigma = 1  took  5.470385313034058  total, i.e.  0.18234617710113527  per run\n",
      "Run number  0  /  30\n",
      "Run number  5  /  30\n",
      "Run number  10  /  30\n",
      "Run number  15  /  30\n",
      "Run number  20  /  30\n",
      "Run number  25  /  30\n",
      "UCB \\sigma = scale =50  took  5.5237510204315186  total, i.e.  0.18412503401438396  per run\n",
      "Run number  0  /  30\n",
      "Run number  5  /  30\n",
      "Run number  10  /  30\n",
      "Run number  15  /  30\n",
      "Run number  20  /  30\n",
      "Run number  25  /  30\n",
      "UCB \\sigma = 200  took  5.489048957824707  total, i.e.  0.1829682985941569  per run\n",
      "Run number  0  /  30\n",
      "Run number  5  /  30\n",
      "Run number  10  /  30\n",
      "Run number  15  /  30\n",
      "Run number  20  /  30\n",
      "Run number  25  /  30\n",
      "True AdaExp3  took  40.47425055503845  total, i.e.  1.3491416851679483  per run\n",
      "Run number  0  /  30\n",
      "Run number  5  /  30\n",
      "Run number  10  /  30\n",
      "Run number  15  /  30\n",
      "Run number  20  /  30\n",
      "Run number  25  /  30\n",
      "AdaFTRL Tsallis prox  took  3440.411744117737  total, i.e.  114.68039147059123  per run\n",
      "Run number  0  /  30\n",
      "Run number  5  /  30\n",
      "Run number  10  /  30\n",
      "Run number  15  /  30\n",
      "Run number  20  /  30\n",
      "Run number  25  /  30\n",
      "AdaFTRL Tsallis  took  10798.168793201447  total, i.e.  359.93895977338155  per run\n",
      "Run number  0  /  30\n",
      "Run number  5  /  30\n",
      "Run number  10  /  30\n",
      "Run number  15  /  30\n",
      "Run number  20  /  30\n",
      "Run number  25  /  30\n",
      "FTL  took  5.394726037979126  total, i.e.  0.17982420126597087  per run\n",
      "Run number  0  /  30\n",
      "Run number  5  /  30\n",
      "Run number  10  /  30\n",
      "Run number  15  /  30\n",
      "Run number  20  /  30\n",
      "Run number  25  /  30\n",
      "random play  took  1.505584955215454  total, i.e.  0.05018616517384847  per run\n",
      "Run number  0  /  30\n",
      "Run number  5  /  30\n",
      "Run number  10  /  30\n",
      "Run number  15  /  30\n",
      "Run number  20  /  30\n",
      "Run number  25  /  30\n",
      "UCB \\sigma = 0.1  took  5.345605134963989  total, i.e.  0.178186837832133  per run\n",
      "Run number  0  /  30\n",
      "Run number  5  /  30\n",
      "Run number  10  /  30\n",
      "Run number  15  /  30\n",
      "Run number  20  /  30\n",
      "Run number  25  /  30\n",
      "UCB \\sigma = 1  took  5.37775182723999  total, i.e.  0.179258394241333  per run\n",
      "Run number  0  /  30\n",
      "Run number  5  /  30\n",
      "Run number  10  /  30\n",
      "Run number  15  /  30\n",
      "Run number  20  /  30\n",
      "Run number  25  /  30\n",
      "UCB \\sigma = scale =50  took  5.3899500370025635  total, i.e.  0.17966500123341878  per run\n",
      "Run number  0  /  30\n",
      "Run number  5  /  30\n",
      "Run number  10  /  30\n",
      "Run number  15  /  30\n",
      "Run number  20  /  30\n",
      "Run number  25  /  30\n",
      "UCB \\sigma = 200  took  5.440207004547119  total, i.e.  0.18134023348490397  per run\n",
      "Run number  0  /  30\n",
      "Run number  5  /  30\n",
      "Run number  10  /  30\n",
      "Run number  15  /  30\n",
      "Run number  20  /  30\n",
      "Run number  25  /  30\n",
      "True AdaExp3  took  40.94570708274841  total, i.e.  1.3648569027582804  per run\n",
      "Run number  0  /  30\n",
      "Run number  5  /  30\n",
      "Run number  10  /  30\n",
      "Run number  15  /  30\n",
      "Run number  20  /  30\n",
      "Run number  25  /  30\n",
      "AdaFTRL Tsallis prox  took  4028.499592065811  total, i.e.  134.28331973552704  per run\n",
      "Run number  0  /  30\n"
     ]
    }
   ],
   "source": [
    "np.random.seed(0)\n",
    "\n",
    "Ntest = lambda _ : 30\n",
    "K = 3\n",
    "T = 10000\n",
    "\n",
    "ds = np.linspace(1, 1+0.1, K)\n",
    "M = 1\n",
    "scales = [0.01, 1, 50]\n",
    "mus_list = [M - scale*(1/2 + ds) for scale in scales]\n",
    "\n",
    "band_list = [UnifDBand(K, mus_list[i], M, scale) for i, scale in enumerate(scales)]\n",
    "\n",
    "alg_list = [\n",
    "    UCB(K, sig=0.1, label=\"UCB \\sigma = \"+str(0.1)),\n",
    "    UCB(K, sig=1, label=\"UCB \\sigma = 1\"),\n",
    "    UCB(K, sig=scale, label=\"UCB \\sigma = scale =\"+str(scale)),\n",
    "    UCB(K, sig=200, label=\"UCB \\sigma = 200\"),\n",
    "    #Exp3(K , M=M, label=\"Vanilla Exp3\"),\n",
    "    AdaHedgeExp3(K, M=M, label=\"True AdaExp3\"),\n",
    "    AdaFTRLTsallis(K, M=M, sym=False, proxy=True, label=\"AdaFTRL Tsallis prox\"), \n",
    "    AdaFTRLTsallis(K, M=M, sym=False, label=\"AdaFTRL Tsallis\"), \n",
    "    #FTRL_w_reg(K, opt_ut.Tsallis_1_2_sym(K), M=M, label=\"SymTsallis\"),\n",
    "    #AdaFTRLTsallis(K, M=100, label=\"AdaHedge Tsallis M={}\".format(100)),\n",
    "    UCB(K, sig=0, label=\"FTL\"),\n",
    "    RandomPlay(K, label=\"random play\"),\n",
    "    ]\n",
    "\n",
    "data_dict={\n",
    "    'name':'Long Name',\n",
    "    'short_name':'short_name',\n",
    "    'T':T,\n",
    "    'Ntest':Ntest,\n",
    "    'band_list':band_list,\n",
    "    'alg_list':alg_list,\n",
    "    'results':None,\n",
    "    'scales':scales,\n",
    "    'seed':0\n",
    "}\n",
    "\n",
    "launch(data_dict, fair_reg=False)"
   ]
  },
  {
   "cell_type": "code",
   "execution_count": null,
   "metadata": {},
   "outputs": [],
   "source": [
    "plot_and_save(data_dict, save_data=True, skip_algs=[8], log_scale=False, show_vars=False, rescale=True)"
   ]
  },
  {
   "cell_type": "code",
   "execution_count": 45,
   "metadata": {
    "scrolled": false
   },
   "outputs": [],
   "source": [
    "def plot_deltas(alg_list):\n",
    "    for alg in alg_list:\n",
    "        if 'mix_gaps' in vars(alg).keys():\n",
    "            plt.plot([x for x in alg.mix_gaps], label=alg.label)\n",
    "            plt.legend()\n",
    "            plt.show()\n",
    "        if 'true_mix_gaps' in vars(alg).keys():\n",
    "            plt.plot([x for x in alg.true_mix_gaps], label=alg.label+\" True Mix Gaps\", alpha=0.3)\n",
    "            plt.legend()\n",
    "            plt.show()\n",
    "\n",
    "def plot_etas(alg_list, normalize=False):\n",
    "    for alg in alg_list:\n",
    "        deltas = alg.mix_gaps\n",
    "        etas = deltas_to_etas(deltas)\n",
    "        if normalize:\n",
    "            plt.plot( [1 / np.square(eta) for eta in etas])\n",
    "            plt.title(\"1 / etas^2 : \"+alg.label)\n",
    "        else:\n",
    "            plt.plot(etas)\n",
    "            plt.title(\"etas : \"+alg.label)\n",
    "        plt.show()\n",
    "        \n",
    "def deltas_to_etas(deltas):\n",
    "    r = []\n",
    "    cum = 0\n",
    "    for i, delta in enumerate(deltas):\n",
    "        cum += delta\n",
    "        if cum == 0:\n",
    "            r.append(1000)\n",
    "        else:\n",
    "            r.append(1. / cum)\n",
    "    return r\n",
    "\n",
    "#plot_deltas(alg_list[2:])\n",
    "#plot_etas(alg_list[2:], normalize=True)\n"
   ]
  },
  {
   "cell_type": "code",
   "execution_count": null,
   "metadata": {},
   "outputs": [],
   "source": []
  },
  {
   "cell_type": "code",
   "execution_count": null,
   "metadata": {
    "scrolled": true
   },
   "outputs": [],
   "source": [
    "np.random.seed(50)\n",
    "K = 15\n",
    "\n",
    "l0 = 1\n",
    "p = np.random.rand(K) \n",
    "p /= np.sum(p)\n",
    "eta0 = 1\n",
    "\n",
    "def objective(l, p, K, eta=1, i= 0):\n",
    "    return eta*np.square(l)*np.power(p[i], -1/2)\n",
    "\n",
    "ls = np.linspace(0, 5, 100)\n",
    "\n",
    "print(p)\n",
    "for i in range(K):\n",
    "    print(p[i])\n",
    "    \n",
    "    true_mixs = [mix_gap_comp(l, p, K, eta=eta0, i=i)[1] for l in ls]\n",
    "    bound = [objective(l, p, K, eta=eta0, i=i) for l in ls]\n",
    "    plt.plot(ls, true_mixs , label=\"true\")\n",
    "    plt.plot(ls, bound, label=\"bound\")\n",
    "    plt.legend()\n",
    "    plt.show()\n",
    "    diff = np.array(bound) - np.array(true_mixs)\n",
    "    plt.plot(ls,  diff)\n",
    "    plt.show()\n",
    "    print(\"minimum difference :\", min(diff))"
   ]
  },
  {
   "cell_type": "code",
   "execution_count": 36,
   "metadata": {
    "scrolled": true
   },
   "outputs": [
    {
     "data": {
      "text/plain": [
       "[(0.10588235294117647, 0.6196078431372549, 0.4666666666666667),\n",
       " (0.8509803921568627, 0.37254901960784315, 0.00784313725490196),\n",
       " (0.4588235294117647, 0.4392156862745098, 0.7019607843137254),\n",
       " (0.9058823529411765, 0.1607843137254902, 0.5411764705882353),\n",
       " (0.4, 0.6509803921568628, 0.11764705882352941),\n",
       " (0.9019607843137255, 0.6705882352941176, 0.00784313725490196),\n",
       " (0.6509803921568628, 0.4627450980392157, 0.11372549019607843),\n",
       " (0.4, 0.4, 0.4)]"
      ]
     },
     "execution_count": 36,
     "metadata": {},
     "output_type": "execute_result"
    }
   ],
   "source": [
    "[c for c in plt.get_cmap('Dark2').colors]"
   ]
  },
  {
   "cell_type": "code",
   "execution_count": null,
   "metadata": {},
   "outputs": [],
   "source": [
    "'true_mix_gaps' in vars(alg_list[0]).keys()"
   ]
  },
  {
   "cell_type": "code",
   "execution_count": null,
   "metadata": {},
   "outputs": [],
   "source": []
  }
 ],
 "metadata": {
  "kernelspec": {
   "display_name": "Python (Fair)",
   "language": "python",
   "name": "fairpy36"
  },
  "language_info": {
   "codemirror_mode": {
    "name": "ipython",
    "version": 3
   },
   "file_extension": ".py",
   "mimetype": "text/x-python",
   "name": "python",
   "nbconvert_exporter": "python",
   "pygments_lexer": "ipython3",
   "version": "3.6.8"
  }
 },
 "nbformat": 4,
 "nbformat_minor": 2
}
